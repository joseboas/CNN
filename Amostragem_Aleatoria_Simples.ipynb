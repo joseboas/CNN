{
 "cells": [
  {
   "cell_type": "code",
   "execution_count": 9,
   "id": "cd9c3550",
   "metadata": {},
   "outputs": [
    {
     "name": "stdout",
     "output_type": "stream",
     "text": [
      "662 imagens amostradas foram salvas na pasta C:/IFPR/Projetos/DRONE/Base Soja Drone Amostragem2/Validacao/Caterpillar.\n"
     ]
    }
   ],
   "source": [
    "import os\n",
    "import random\n",
    "import shutil\n",
    "import cv2\n",
    "\n",
    "# Caminho para a pasta com as imagens originais\n",
    "input_folder = 'C:/IFPR/Projetos/DRONE/Base Soja Drone Amostragem2/Treino/Caterpillar'\n",
    "\n",
    "# Caminho para a pasta onde você deseja salvar as imagens amostradas\n",
    "output_folder = 'C:/IFPR/Projetos/DRONE/Base Soja Drone Amostragem2/Validacao/Caterpillar'\n",
    "\n",
    "# Número de imagens que você deseja amostrar\n",
    "sample_size = 662\n",
    "\n",
    "# Lista de nomes de arquivos das imagens na pasta de entrada\n",
    "image_files = os.listdir(input_folder)\n",
    "\n",
    "# Amostra aleatória dos nomes de arquivos\n",
    "random_sample = random.sample(image_files, sample_size)\n",
    "\n",
    "# Crie a pasta de saída se ela ainda não existir\n",
    "if not os.path.exists(output_folder):\n",
    "    os.makedirs(output_folder)\n",
    "\n",
    "# Copie as imagens amostradas para a pasta de saída\n",
    "for image_file in random_sample:\n",
    "    image_path = os.path.join(input_folder, image_file)\n",
    "    output_path = os.path.join(output_folder, image_file)\n",
    "    \n",
    "    # Use o OpenCV para ler e copiar a imagem\n",
    "    image = cv2.imread(image_path)\n",
    "    cv2.imwrite(output_path, image)\n",
    "    \n",
    "    # Exclua a imagem original da pasta de entrada\n",
    "    os.remove(image_path)\n",
    "\n",
    "print(f'{sample_size} imagens amostradas foram salvas na pasta {output_folder}.')"
   ]
  },
  {
   "cell_type": "code",
   "execution_count": null,
   "id": "5e08db41",
   "metadata": {},
   "outputs": [],
   "source": []
  }
 ],
 "metadata": {
  "kernelspec": {
   "display_name": "Python 3",
   "language": "python",
   "name": "python3"
  },
  "language_info": {
   "codemirror_mode": {
    "name": "ipython",
    "version": 3
   },
   "file_extension": ".py",
   "mimetype": "text/x-python",
   "name": "python",
   "nbconvert_exporter": "python",
   "pygments_lexer": "ipython3",
   "version": "3.8.8"
  }
 },
 "nbformat": 4,
 "nbformat_minor": 5
}
